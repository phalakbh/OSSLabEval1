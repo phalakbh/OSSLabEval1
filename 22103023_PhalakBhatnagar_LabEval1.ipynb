{
 "cells": [
  {
   "cell_type": "code",
   "execution_count": 30,
   "id": "1d9b58c9",
   "metadata": {},
   "outputs": [],
   "source": [
    "import numpy as np\n",
    "import random"
   ]
  },
  {
   "cell_type": "markdown",
   "id": "452fd494",
   "metadata": {},
   "source": [
    "### Phalak Bhatnagar, 22103023, B1"
   ]
  },
  {
   "cell_type": "markdown",
   "id": "3f39b161",
   "metadata": {},
   "source": [
    " Create a Python program to handle student grade management in a \n",
    "sports school. Utilize dictionaries to organize details such as the student’s name, class, height, \n",
    "weight, and preferred sport. In addition, generate a personalized diet plan and recommend the \n",
    "most appropriate sport for each student, considering key attributes like agility, speed, and \n",
    "strength. Base your suggestions on options like cricket, football, chess, and javelin throw."
   ]
  },
  {
   "cell_type": "code",
   "execution_count": 16,
   "id": "e891ff3d",
   "metadata": {},
   "outputs": [
    {
     "name": "stdout",
     "output_type": "stream",
     "text": [
      "[0, 1, 2, 3]\n"
     ]
    }
   ],
   "source": [
    "student_records=[{'name':\"Ram\",'class':5,'height':145,'weight':35,'preferred_sport':\"Cricket\"},\n",
    "                 {'name':\"Rani\",'class':6,'height':150,'weight':50,'preferred_sport':\"Football\"},\n",
    "                 {'name':\"Mohan\",'class':10,'height':170,'weight':65,'preferred_sport':\"Chess\"},\n",
    "                 {'name':\"Raman\",'class':8,'height':180,'weight':85,'preferred_sport':\"Javelin\"}]\n",
    "student_ids=[i for i in range(len(student_records))]\n",
    "print(student_ids)"
   ]
  },
  {
   "cell_type": "code",
   "execution_count": 22,
   "id": "ecb84d38",
   "metadata": {},
   "outputs": [
    {
     "name": "stdout",
     "output_type": "stream",
     "text": [
      "[{'name': 'Ram', 'class': 5, 'height': 145, 'weight': 35, 'preferred_sport': 'Cricket', 'agility': 0.7449164606555972, 'speed': 0.010282969131158892, 'strength': 0.650983346305451}, {'name': 'Rani', 'class': 6, 'height': 150, 'weight': 50, 'preferred_sport': 'Football', 'agility': 0.2554636741482841, 'speed': 0.6195442406293146, 'strength': 0.4855751604538048}, {'name': 'Mohan', 'class': 10, 'height': 170, 'weight': 65, 'preferred_sport': 'Chess', 'agility': 0.8675114732348206, 'speed': 0.8480454174430894, 'strength': 0.5423493531949584}, {'name': 'Raman', 'class': 8, 'height': 180, 'weight': 85, 'preferred_sport': 'Javelin', 'agility': 0.12821369143110473, 'speed': 0.5812069349964433, 'strength': 0.040419180928770615}]\n"
     ]
    }
   ],
   "source": [
    "for sid in student_ids:\n",
    "    student_records[sid][\"agility\"]=random.random()\n",
    "    student_records[sid][\"speed\"]=random.random()\n",
    "    student_records[sid][\"strength\"]=random.random()\n",
    "    \n",
    "print(student_records)"
   ]
  },
  {
   "cell_type": "code",
   "execution_count": 31,
   "id": "aa5b2a0d",
   "metadata": {},
   "outputs": [
    {
     "name": "stdout",
     "output_type": "stream",
     "text": [
      "Ram , here is your diet plan and sport suggestion:\n",
      "Your preferred sport: Cricket\n",
      "Our recommendation: Table Tennis\n",
      "Reduce fat and carbohydrate intake. Maintain protein intake\n",
      "\n",
      "\n",
      "Rani , here is your diet plan and sport suggestion:\n",
      "Your preferred sport: Football\n",
      "Our recommendation: Table Tennis\n",
      "Include more fat and carbohydrates. Maintain protein intake\n",
      "\n",
      "\n",
      "Mohan , here is your diet plan and sport suggestion:\n",
      "Your preferred sport: Chess\n",
      "Our recommendation: Football\n",
      "Increase protein intake.\n",
      "\n",
      "\n",
      "Raman , here is your diet plan and sport suggestion:\n",
      "Your preferred sport: Javelin\n",
      "Our recommendation: Table Tennis\n",
      "Increase protein intake.\n",
      "\n",
      "\n"
     ]
    }
   ],
   "source": [
    "for sid in student_ids:\n",
    "    print(student_records[sid][\"name\"],\", here is your diet plan and sport suggestion:\")\n",
    "    agility,speed,strength=student_records[sid][\"agility\"],student_records[sid][\"speed\"],student_records[sid][\"strength\"]\n",
    "    if agility>=0.5 and speed<=0.5 and strength<=0.5:\n",
    "        print(\"Your preferred sport:\",student_records[sid][\"preferred_sport\"])\n",
    "        print(\"Our recommendation: Chess\")\n",
    "    elif agility>=0.8 and speed>=0.8 and strength>=0.8:\n",
    "        print(\"Your preferred sport:\",student_records[sid][\"preferred_sport\"])\n",
    "        print(\"Our recommendation: Cricket\")\n",
    "    elif agility>=0.8 and speed>=0.8 and strength<=0.8:\n",
    "        print(\"Your preferred sport:\",student_records[sid][\"preferred_sport\"])\n",
    "        print(\"Our recommendation: Football\")\n",
    "    elif agility>=0.5 and agility<0.8 and speed>=0.5 and strength<=0.8:\n",
    "        print(\"Your preferred sport:\",student_records[sid][\"preferred_sport\"])\n",
    "        print(\"Our recommendation: Javelin\")\n",
    "    else:\n",
    "        print(\"Your preferred sport:\",student_records[sid][\"preferred_sport\"])\n",
    "        print(\"Our recommendation: Table Tennis\")\n",
    "        \n",
    "    height,weight=student_records[sid][\"height\"],student_records[sid][\"weight\"]\n",
    "    \n",
    "    if height>=150 and weight<=50:\n",
    "        print(\"Include more fat and carbohydrates. Maintain protein intake\")\n",
    "    elif height<150 and weight<=50:\n",
    "        print(\"Reduce fat and carbohydrate intake. Maintain protein intake\")\n",
    "    else:\n",
    "        print(\"Increase protein intake.\")\n",
    "        \n",
    "    print(\"\\n\")"
   ]
  },
  {
   "cell_type": "code",
   "execution_count": null,
   "id": "42620851",
   "metadata": {},
   "outputs": [],
   "source": []
  },
  {
   "cell_type": "code",
   "execution_count": null,
   "id": "2667d5b4",
   "metadata": {},
   "outputs": [],
   "source": []
  },
  {
   "cell_type": "code",
   "execution_count": null,
   "id": "435df3b6",
   "metadata": {},
   "outputs": [],
   "source": []
  }
 ],
 "metadata": {
  "kernelspec": {
   "display_name": "Python 3 (ipykernel)",
   "language": "python",
   "name": "python3"
  },
  "language_info": {
   "codemirror_mode": {
    "name": "ipython",
    "version": 3
   },
   "file_extension": ".py",
   "mimetype": "text/x-python",
   "name": "python",
   "nbconvert_exporter": "python",
   "pygments_lexer": "ipython3",
   "version": "3.11.5"
  }
 },
 "nbformat": 4,
 "nbformat_minor": 5
}
